{
 "cells": [
  {
   "cell_type": "markdown",
   "id": "d10ffd54",
   "metadata": {},
   "source": [
    "IMPORTING NECESSARY DEPENDENCIES"
   ]
  },
  {
   "cell_type": "code",
   "execution_count": 216,
   "id": "5f0dc9d9",
   "metadata": {},
   "outputs": [],
   "source": [
    "import pandas as pd\n",
    "import numpy as np\n",
    "from sklearn.model_selection import train_test_split\n",
    "from sklearn.linear_model import LogisticRegression\n",
    "from sklearn.preprocessing import StandardScaler\n",
    "from sklearn.model_selection import GridSearchCV"
   ]
  },
  {
   "cell_type": "markdown",
   "id": "c6576ac1",
   "metadata": {},
   "source": [
    "IMPORTING TRAINING DATASET"
   ]
  },
  {
   "cell_type": "code",
   "execution_count": 217,
   "id": "06a91d27",
   "metadata": {},
   "outputs": [
    {
     "data": {
      "text/html": [
       "<div>\n",
       "<style scoped>\n",
       "    .dataframe tbody tr th:only-of-type {\n",
       "        vertical-align: middle;\n",
       "    }\n",
       "\n",
       "    .dataframe tbody tr th {\n",
       "        vertical-align: top;\n",
       "    }\n",
       "\n",
       "    .dataframe thead th {\n",
       "        text-align: right;\n",
       "    }\n",
       "</style>\n",
       "<table border=\"1\" class=\"dataframe\">\n",
       "  <thead>\n",
       "    <tr style=\"text-align: right;\">\n",
       "      <th></th>\n",
       "      <th>season</th>\n",
       "      <th>league_id</th>\n",
       "      <th>SPI1</th>\n",
       "      <th>SPI2</th>\n",
       "      <th>proj_score1</th>\n",
       "      <th>proj_score2</th>\n",
       "      <th>Outcome</th>\n",
       "    </tr>\n",
       "  </thead>\n",
       "  <tbody>\n",
       "    <tr>\n",
       "      <th>0</th>\n",
       "      <td>2019</td>\n",
       "      <td>1979</td>\n",
       "      <td>48.22</td>\n",
       "      <td>37.83</td>\n",
       "      <td>1.75</td>\n",
       "      <td>0.84</td>\n",
       "      <td>1</td>\n",
       "    </tr>\n",
       "    <tr>\n",
       "      <th>1</th>\n",
       "      <td>2019</td>\n",
       "      <td>1979</td>\n",
       "      <td>39.81</td>\n",
       "      <td>60.08</td>\n",
       "      <td>1.22</td>\n",
       "      <td>1.89</td>\n",
       "      <td>0</td>\n",
       "    </tr>\n",
       "  </tbody>\n",
       "</table>\n",
       "</div>"
      ],
      "text/plain": [
       "   season  league_id   SPI1   SPI2  proj_score1  proj_score2  Outcome\n",
       "0    2019       1979  48.22  37.83         1.75         0.84        1\n",
       "1    2019       1979  39.81  60.08         1.22         1.89        0"
      ]
     },
     "execution_count": 217,
     "metadata": {},
     "output_type": "execute_result"
    }
   ],
   "source": [
    "df = pd.read_csv('train.csv')\n",
    "df = df.drop(['date', 'league', 'Team 1', 'Team2','importance1', 'importance2', 'score1', 'score2', 'xg1', 'xg2', 'nsxg1',\n",
    "       'nsxg2', 'adj_score1', 'adj_score2'], axis=1)\n",
    "df.head(2)"
   ]
  },
  {
   "cell_type": "markdown",
   "id": "9c7d1a0b",
   "metadata": {},
   "source": [
    "IMPORTING TEST DATASET"
   ]
  },
  {
   "cell_type": "code",
   "execution_count": 218,
   "id": "06021e06",
   "metadata": {},
   "outputs": [
    {
     "data": {
      "text/html": [
       "<div>\n",
       "<style scoped>\n",
       "    .dataframe tbody tr th:only-of-type {\n",
       "        vertical-align: middle;\n",
       "    }\n",
       "\n",
       "    .dataframe tbody tr th {\n",
       "        vertical-align: top;\n",
       "    }\n",
       "\n",
       "    .dataframe thead th {\n",
       "        text-align: right;\n",
       "    }\n",
       "</style>\n",
       "<table border=\"1\" class=\"dataframe\">\n",
       "  <thead>\n",
       "    <tr style=\"text-align: right;\">\n",
       "      <th></th>\n",
       "      <th>season</th>\n",
       "      <th>league_id</th>\n",
       "      <th>SPI1</th>\n",
       "      <th>SPI2</th>\n",
       "      <th>proj_score1</th>\n",
       "      <th>proj_score2</th>\n",
       "    </tr>\n",
       "  </thead>\n",
       "  <tbody>\n",
       "    <tr>\n",
       "      <th>0</th>\n",
       "      <td>2021</td>\n",
       "      <td>2411</td>\n",
       "      <td>79.65</td>\n",
       "      <td>74.06</td>\n",
       "      <td>1.67</td>\n",
       "      <td>1.19</td>\n",
       "    </tr>\n",
       "    <tr>\n",
       "      <th>1</th>\n",
       "      <td>2021</td>\n",
       "      <td>2411</td>\n",
       "      <td>74.19</td>\n",
       "      <td>71.14</td>\n",
       "      <td>1.35</td>\n",
       "      <td>0.98</td>\n",
       "    </tr>\n",
       "  </tbody>\n",
       "</table>\n",
       "</div>"
      ],
      "text/plain": [
       "   season  league_id   SPI1   SPI2  proj_score1  proj_score2\n",
       "0    2021       2411  79.65  74.06         1.67         1.19\n",
       "1    2021       2411  74.19  71.14         1.35         0.98"
      ]
     },
     "execution_count": 218,
     "metadata": {},
     "output_type": "execute_result"
    }
   ],
   "source": [
    "df_test = pd.read_csv('test.csv')\n",
    "\n",
    "df_test = df_test.drop(['date', 'league', 'Team 1', 'Team2','importance1', 'importance2', 'score1', 'score2', 'xg1', 'xg2', 'nsxg1',\n",
    "       'nsxg2', 'adj_score1', 'adj_score2'], axis=1)\n",
    "df_test.head(2)"
   ]
  },
  {
   "cell_type": "code",
   "execution_count": 219,
   "id": "a9ce58d8",
   "metadata": {},
   "outputs": [
    {
     "data": {
      "text/plain": [
       "Index(['season', 'league_id', 'SPI1', 'SPI2', 'proj_score1', 'proj_score2',\n",
       "       'Outcome'],\n",
       "      dtype='object')"
      ]
     },
     "execution_count": 219,
     "metadata": {},
     "output_type": "execute_result"
    }
   ],
   "source": [
    "df.columns"
   ]
  },
  {
   "cell_type": "markdown",
   "id": "5e2f8c12",
   "metadata": {},
   "source": [
    "DEFINING NUMPY ARRAY FOR TRAINING DATA"
   ]
  },
  {
   "cell_type": "code",
   "execution_count": 220,
   "id": "7a4a77ab",
   "metadata": {},
   "outputs": [
    {
     "data": {
      "text/plain": [
       "array([[2.019e+03, 1.979e+03, 4.822e+01, 3.783e+01, 1.750e+00, 8.400e-01],\n",
       "       [2.019e+03, 1.979e+03, 3.981e+01, 6.008e+01, 1.220e+00, 1.890e+00],\n",
       "       [2.019e+03, 1.979e+03, 6.559e+01, 3.999e+01, 2.580e+00, 6.200e-01],\n",
       "       ...,\n",
       "       [2.021e+03, 1.983e+03, 1.297e+01, 2.359e+01, 1.050e+00, 1.500e+00],\n",
       "       [2.021e+03, 1.983e+03, 1.176e+01, 1.807e+01, 1.220e+00, 1.460e+00],\n",
       "       [2.021e+03, 1.983e+03, 2.589e+01, 1.075e+01, 1.410e+00, 5.900e-01]])"
      ]
     },
     "execution_count": 220,
     "metadata": {},
     "output_type": "execute_result"
    }
   ],
   "source": [
    "X = df.iloc[:,0:6].values\n",
    "y = df['Outcome'].values\n",
    "X"
   ]
  },
  {
   "cell_type": "markdown",
   "id": "61477a80",
   "metadata": {},
   "source": [
    "SCALING THE TRAINING DATA"
   ]
  },
  {
   "cell_type": "code",
   "execution_count": 221,
   "id": "13e8d761",
   "metadata": {},
   "outputs": [
    {
     "data": {
      "text/plain": [
       "array([[-4.18960998, -0.27624413,  0.42319587, -0.14471537,  0.77524312,\n",
       "        -0.99580336],\n",
       "       [-4.18960998, -0.27624413, -0.03470557,  1.06744809, -0.66203631,\n",
       "         1.87657062],\n",
       "       [-4.18960998, -0.27624413,  1.36894476, -0.02704017,  3.02607696,\n",
       "        -1.5976341 ],\n",
       "       ...,\n",
       "       [ 0.34778792, -0.27237294, -1.49607   , -0.92049998, -1.12305047,\n",
       "         0.80968886],\n",
       "       [ 0.34778792, -0.27237294, -1.56195118, -1.22122547, -0.66203631,\n",
       "         0.70026509],\n",
       "       [ 0.34778792, -0.27237294, -0.79261142, -1.62001363, -0.14678519,\n",
       "        -1.67970192]])"
      ]
     },
     "execution_count": 221,
     "metadata": {},
     "output_type": "execute_result"
    }
   ],
   "source": [
    "scaler = StandardScaler().fit(X)\n",
    "X  = scaler.transform(X)\n",
    "X"
   ]
  },
  {
   "cell_type": "markdown",
   "id": "7fd64b08",
   "metadata": {},
   "source": [
    "DEFINING NUMPY ARRAY FOR TEST DATA AND SCALING THE TEST DATA"
   ]
  },
  {
   "cell_type": "code",
   "execution_count": 222,
   "id": "00b68ff6",
   "metadata": {},
   "outputs": [
    {
     "data": {
      "text/plain": [
       "array([[ 0.        ,  0.31400768,  1.80397106,  1.53537302,  0.60017971,\n",
       "        -0.09896393],\n",
       "       [ 0.        ,  0.31400768,  1.53726483,  1.39265602, -0.28725125,\n",
       "        -0.68592724],\n",
       "       [ 0.        ,  0.31400768,  0.8768494 ,  1.40780748, -0.75869895,\n",
       "         0.73955507],\n",
       "       ...,\n",
       "       [ 0.        , -0.31993434, -0.78640098, -0.68407177, -0.39818012,\n",
       "        -0.2387171 ],\n",
       "       [ 0.        , -0.31993434, -0.43860824, -0.60244938, -0.34271569,\n",
       "        -0.9933842 ],\n",
       "       [ 0.        , -0.31993434, -0.63595132, -0.60587068, -0.2040546 ,\n",
       "        -0.09896393]])"
      ]
     },
     "execution_count": 222,
     "metadata": {},
     "output_type": "execute_result"
    }
   ],
   "source": [
    "X_test = df_test.iloc[:,0:6].values\n",
    "scaler = StandardScaler().fit(X_test)\n",
    "X_test  = scaler.transform(X_test)\n",
    "X_test"
   ]
  },
  {
   "cell_type": "markdown",
   "id": "d8d3bea4",
   "metadata": {},
   "source": [
    "TRAIN VALIDATION SPLIT"
   ]
  },
  {
   "cell_type": "code",
   "execution_count": 223,
   "id": "d4f7a59a",
   "metadata": {},
   "outputs": [],
   "source": [
    "X_train, X_val, y_train, y_val = train_test_split(X, y, random_state=42, test_size=0.3)"
   ]
  },
  {
   "cell_type": "markdown",
   "id": "01286aed",
   "metadata": {},
   "source": [
    "DEFINING AND INITIAL IMPRESSIONS OF THE MODEL PERFORMANCE"
   ]
  },
  {
   "cell_type": "code",
   "execution_count": 224,
   "id": "5f4a823e",
   "metadata": {
    "scrolled": true
   },
   "outputs": [
    {
     "data": {
      "text/plain": [
       "0.9932825794894761"
      ]
     },
     "execution_count": 224,
     "metadata": {},
     "output_type": "execute_result"
    }
   ],
   "source": [
    "logreg = LogisticRegression()\n",
    "logreg.fit(X, y)\n",
    "logreg.score(X_val, y_val)"
   ]
  },
  {
   "cell_type": "markdown",
   "id": "288a9ea3",
   "metadata": {},
   "source": [
    "HYPERPARAMETER TUNING"
   ]
  },
  {
   "cell_type": "code",
   "execution_count": 225,
   "id": "a80d4385",
   "metadata": {},
   "outputs": [],
   "source": [
    "c_space = np.logspace(-5,8,15)\n",
    "s = ['newton-cg']\n",
    "m = [100,200,300]\n",
    "param_grid = {'C':c_space,\n",
    "             'max_iter': m,\n",
    "             'solver': s}"
   ]
  },
  {
   "cell_type": "markdown",
   "id": "9fecf02a",
   "metadata": {},
   "source": [
    "GRID SEARCH CV FOR LOGISTIC MODEL WORKING ON UNSEEN TEST DATA"
   ]
  },
  {
   "cell_type": "code",
   "execution_count": 226,
   "id": "45a7a0f6",
   "metadata": {},
   "outputs": [],
   "source": [
    "logreg_cv = GridSearchCV(logreg, param_grid, cv=5)\n",
    "logreg_cv.fit(X, y)\n",
    "logreg_cv.score(X_val, y_val)\n",
    "pred = logreg_cv.predict(X_test)"
   ]
  },
  {
   "cell_type": "markdown",
   "id": "8dec99cc",
   "metadata": {},
   "source": [
    "SAVING THE PREDICTED OUTCOME TO A CSV FILE"
   ]
  },
  {
   "cell_type": "code",
   "execution_count": 227,
   "id": "c0fec74e",
   "metadata": {},
   "outputs": [],
   "source": [
    "submission = pd.DataFrame(pred, columns=['Outcome'])\n",
    "submission.to_csv('my_submission_file.csv', index=False)"
   ]
  },
  {
   "cell_type": "code",
   "execution_count": null,
   "id": "75ef3b82",
   "metadata": {},
   "outputs": [],
   "source": []
  }
 ],
 "metadata": {
  "kernelspec": {
   "display_name": "Python 3",
   "language": "python",
   "name": "python3"
  },
  "language_info": {
   "codemirror_mode": {
    "name": "ipython",
    "version": 3
   },
   "file_extension": ".py",
   "mimetype": "text/x-python",
   "name": "python",
   "nbconvert_exporter": "python",
   "pygments_lexer": "ipython3",
   "version": "3.8.8"
  }
 },
 "nbformat": 4,
 "nbformat_minor": 5
}
